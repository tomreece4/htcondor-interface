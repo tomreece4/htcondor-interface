{
 "cells": [
  {
   "cell_type": "code",
   "execution_count": 1,
   "id": "d50da1d7",
   "metadata": {},
   "outputs": [
    {
     "ename": "ModuleNotFoundError",
     "evalue": "No module named 'ipywidgets'",
     "output_type": "error",
     "traceback": [
      "\u001b[1;31m---------------------------------------------------------------------------\u001b[0m",
      "\u001b[1;31mModuleNotFoundError\u001b[0m                       Traceback (most recent call last)",
      "Cell \u001b[1;32mIn[1], line 2\u001b[0m\n\u001b[0;32m      1\u001b[0m \u001b[38;5;28;01mimport\u001b[39;00m\u001b[38;5;250m \u001b[39m\u001b[38;5;21;01mhtcondor\u001b[39;00m\n\u001b[1;32m----> 2\u001b[0m \u001b[38;5;28;01mimport\u001b[39;00m\u001b[38;5;250m \u001b[39m\u001b[38;5;21;01mipywidgets\u001b[39;00m\u001b[38;5;250m \u001b[39m\u001b[38;5;28;01mas\u001b[39;00m\u001b[38;5;250m \u001b[39m\u001b[38;5;21;01mwidgets\u001b[39;00m\n\u001b[0;32m      3\u001b[0m \u001b[38;5;28;01mfrom\u001b[39;00m\u001b[38;5;250m \u001b[39m\u001b[38;5;21;01mIPython\u001b[39;00m\u001b[38;5;21;01m.\u001b[39;00m\u001b[38;5;21;01mdisplay\u001b[39;00m\u001b[38;5;250m \u001b[39m\u001b[38;5;28;01mimport\u001b[39;00m display\n\u001b[0;32m      5\u001b[0m exe \u001b[38;5;241m=\u001b[39m widgets\u001b[38;5;241m.\u001b[39mText(value\u001b[38;5;241m=\u001b[39m\u001b[38;5;124m'\u001b[39m\u001b[38;5;124mmy_job.sh\u001b[39m\u001b[38;5;124m'\u001b[39m, description\u001b[38;5;241m=\u001b[39m\u001b[38;5;124m'\u001b[39m\u001b[38;5;124mExecutable:\u001b[39m\u001b[38;5;124m'\u001b[39m)\n",
      "\u001b[1;31mModuleNotFoundError\u001b[0m: No module named 'ipywidgets'"
     ]
    }
   ],
   "source": [
    "import htcondor\n",
    "import ipywidgets as widgets\n",
    "from IPython.display import display\n",
    "\n",
    "exe = widgets.Text(value='my_job.sh', description='Executable:')\n",
    "args = widgets.Text(description='Arguments:')\n",
    "cpus = widgets.IntSlider(value=1, min=1, max=16, description='CPUs:')\n",
    "mem  = widgets.IntText(value=1024, description='Memory (MB):')\n",
    "submit_btn = widgets.Button(description='Submit Job', button_style='success')\n",
    "\n",
    "def on_submit(btn):\n",
    "    schedd = htcondor.Schedd()\n",
    "    desc = htcondor.Submit({\n",
    "        'executable': exe.value,\n",
    "        'arguments': args.value,\n",
    "        'request_cpus': str(cpus.value),\n",
    "        'request_memory': f\"{mem.value}MB\",\n",
    "        'output': '$(Cluster).$(Process).out',\n",
    "        'error':  '$(Cluster).$(Process).err',\n",
    "        'log':    '$(Cluster).log'\n",
    "    })\n",
    "    with schedd.transaction() as txn:\n",
    "        cid = desc.queue(txn)\n",
    "    print(f\"✅ Submitted as cluster {cid}\")\n",
    "\n",
    "submit_btn.on_click(on_submit)\n",
    "display(exe, args, cpus, mem, submit_btn)\n"
   ]
  },
  {
   "cell_type": "markdown",
   "id": "a7c56975",
   "metadata": {},
   "source": []
  }
 ],
 "metadata": {
  "kernelspec": {
   "display_name": "htcondor_env",
   "language": "python",
   "name": "python3"
  },
  "language_info": {
   "codemirror_mode": {
    "name": "ipython",
    "version": 3
   },
   "file_extension": ".py",
   "mimetype": "text/x-python",
   "name": "python",
   "nbconvert_exporter": "python",
   "pygments_lexer": "ipython3",
   "version": "3.9.6"
  }
 },
 "nbformat": 4,
 "nbformat_minor": 5
}
